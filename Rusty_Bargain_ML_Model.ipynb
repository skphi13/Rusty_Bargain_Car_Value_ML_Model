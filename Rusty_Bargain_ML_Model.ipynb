{
 "cells": [
  {
   "cell_type": "markdown",
   "metadata": {},
   "source": [
    "Rusty Bargain used car sales service is developing an app to attract new customers. In that app, you can quickly find out the market value of your car. You have access to historical data: technical specifications, trim versions, and prices. You need to build the model to determine the value. \n",
    "\n",
    "Rusty Bargain is interested in:\n",
    "\n",
    "- the quality of the prediction;\n",
    "- the speed of the prediction;\n",
    "- the time required for training"
   ]
  },
  {
   "cell_type": "markdown",
   "metadata": {},
   "source": [
    "## Data preparation"
   ]
  },
  {
   "cell_type": "code",
   "execution_count": 36,
   "metadata": {},
   "outputs": [],
   "source": [
    "import pandas as pd\n",
    "import numpy as np\n",
    "import os\n",
    "import matplotlib.pyplot as plt\n",
    "import seaborn as sns\n",
    "import time\n",
    "\n",
    "from sklearn.model_selection import train_test_split, GridSearchCV, RandomizedSearchCV\n",
    "from sklearn.ensemble import RandomForestRegressor, GradientBoostingRegressor\n",
    "from sklearn.linear_model import LinearRegression\n",
    "from sklearn.preprocessing import LabelEncoder, OrdinalEncoder\n",
    "from sklearn.metrics import mean_squared_error, mean_absolute_error, r2_score\n",
    "from sklearn.metrics import make_scorer\n",
    "\n",
    "from catboost import CatBoostRegressor, CatBoostClassifier\n",
    "from lightgbm import LGBMRegressor\n",
    "\n",
    "\n",
    "import warnings\n",
    "\n",
    "warnings.filterwarnings('ignore')"
   ]
  },
  {
   "cell_type": "code",
   "execution_count": 3,
   "metadata": {},
   "outputs": [],
   "source": [
    "car_data = pd.read_csv('/datasets/car_data.csv')"
   ]
  },
  {
   "cell_type": "code",
   "execution_count": 4,
   "metadata": {},
   "outputs": [
    {
     "name": "stdout",
     "output_type": "stream",
     "text": [
      "<class 'pandas.core.frame.DataFrame'>\n",
      "RangeIndex: 354369 entries, 0 to 354368\n",
      "Data columns (total 16 columns):\n",
      " #   Column             Non-Null Count   Dtype \n",
      "---  ------             --------------   ----- \n",
      " 0   DateCrawled        354369 non-null  object\n",
      " 1   Price              354369 non-null  int64 \n",
      " 2   VehicleType        316879 non-null  object\n",
      " 3   RegistrationYear   354369 non-null  int64 \n",
      " 4   Gearbox            334536 non-null  object\n",
      " 5   Power              354369 non-null  int64 \n",
      " 6   Model              334664 non-null  object\n",
      " 7   Mileage            354369 non-null  int64 \n",
      " 8   RegistrationMonth  354369 non-null  int64 \n",
      " 9   FuelType           321474 non-null  object\n",
      " 10  Brand              354369 non-null  object\n",
      " 11  NotRepaired        283215 non-null  object\n",
      " 12  DateCreated        354369 non-null  object\n",
      " 13  NumberOfPictures   354369 non-null  int64 \n",
      " 14  PostalCode         354369 non-null  int64 \n",
      " 15  LastSeen           354369 non-null  object\n",
      "dtypes: int64(7), object(9)\n",
      "memory usage: 43.3+ MB\n"
     ]
    }
   ],
   "source": [
    "car_data.info()"
   ]
  },
  {
   "cell_type": "code",
   "execution_count": 5,
   "metadata": {},
   "outputs": [
    {
     "data": {
      "text/plain": [
       "DateCrawled              0\n",
       "Price                    0\n",
       "VehicleType          37490\n",
       "RegistrationYear         0\n",
       "Gearbox              19833\n",
       "Power                    0\n",
       "Model                19705\n",
       "Mileage                  0\n",
       "RegistrationMonth        0\n",
       "FuelType             32895\n",
       "Brand                    0\n",
       "NotRepaired          71154\n",
       "DateCreated              0\n",
       "NumberOfPictures         0\n",
       "PostalCode               0\n",
       "LastSeen                 0\n",
       "dtype: int64"
      ]
     },
     "execution_count": 5,
     "metadata": {},
     "output_type": "execute_result"
    }
   ],
   "source": [
    "car_data.isnull().sum()"
   ]
  },
  {
   "cell_type": "code",
   "execution_count": 6,
   "metadata": {},
   "outputs": [
    {
     "name": "stdout",
     "output_type": "stream",
     "text": [
      "Number of duplicate rows before removal: 262\n",
      "Number of duplicate rows after removal: 0\n"
     ]
    }
   ],
   "source": [
    "# Check and remove duplicate rows\n",
    "print(f\"Number of duplicate rows before removal: {car_data.duplicated().sum()}\")\n",
    "car_data = car_data.drop_duplicates()\n",
    "print(f\"Number of duplicate rows after removal: {car_data.duplicated().sum()}\")\n"
   ]
  },
  {
   "cell_type": "code",
   "execution_count": 7,
   "metadata": {},
   "outputs": [
    {
     "name": "stdout",
     "output_type": "stream",
     "text": [
      "               Price  RegistrationYear          Power        Mileage  \\\n",
      "count  354107.000000     354107.000000  354107.000000  354107.000000   \n",
      "mean     4416.433287       2004.235355     110.089651  128211.811684   \n",
      "std      4514.338584         90.261168     189.914972   37906.590101   \n",
      "min         0.000000       1000.000000       0.000000    5000.000000   \n",
      "25%      1050.000000       1999.000000      69.000000  125000.000000   \n",
      "50%      2700.000000       2003.000000     105.000000  150000.000000   \n",
      "75%      6400.000000       2008.000000     143.000000  150000.000000   \n",
      "max     20000.000000       9999.000000   20000.000000  150000.000000   \n",
      "\n",
      "       RegistrationMonth  NumberOfPictures     PostalCode  \n",
      "count      354107.000000          354107.0  354107.000000  \n",
      "mean            5.714182               0.0   50507.145030  \n",
      "std             3.726682               0.0   25784.212094  \n",
      "min             0.000000               0.0    1067.000000  \n",
      "25%             3.000000               0.0   30165.000000  \n",
      "50%             6.000000               0.0   49406.000000  \n",
      "75%             9.000000               0.0   71083.000000  \n",
      "max            12.000000               0.0   99998.000000  \n"
     ]
    }
   ],
   "source": [
    "# Describe numeric features for potential outliers or anomalies\n",
    "print(car_data.describe())\n"
   ]
  },
  {
   "cell_type": "code",
   "execution_count": 8,
   "metadata": {},
   "outputs": [
    {
     "name": "stdout",
     "output_type": "stream",
     "text": [
      "          DateCrawled DateCreated            LastSeen\n",
      "0 2016-03-24 11:52:00  2016-03-24 2016-07-04 03:16:00\n",
      "1 2016-03-24 10:58:00  2016-03-24 2016-07-04 01:46:00\n",
      "2 2016-03-14 12:52:00  2016-03-14 2016-05-04 12:47:00\n",
      "3 2016-03-17 16:54:00  2016-03-17 2016-03-17 17:40:00\n",
      "4 2016-03-31 17:25:00  2016-03-31 2016-06-04 10:17:00\n"
     ]
    }
   ],
   "source": [
    "# Convert date-related columns to datetime format\n",
    "car_data['DateCrawled'] = pd.to_datetime(car_data['DateCrawled'], errors='coerce')\n",
    "car_data['DateCreated'] = pd.to_datetime(car_data['DateCreated'], errors='coerce')\n",
    "car_data['LastSeen'] = pd.to_datetime(car_data['LastSeen'], errors='coerce')\n",
    "\n",
    "# Verify the changes\n",
    "print(car_data[['DateCrawled', 'DateCreated', 'LastSeen']].head())\n"
   ]
  },
  {
   "cell_type": "code",
   "execution_count": 9,
   "metadata": {},
   "outputs": [
    {
     "name": "stdout",
     "output_type": "stream",
     "text": [
      "Number of cars with Price = 0: 10770\n",
      "Number of cars with Price > 100000: 0\n"
     ]
    }
   ],
   "source": [
    "# Investigate rows with price 0 or unusually high values\n",
    "print(\"Number of cars with Price = 0:\", car_data[car_data['Price'] == 0].shape[0])\n",
    "print(\"Number of cars with Price > 100000:\", car_data[car_data['Price'] > 100000].shape[0])\n"
   ]
  },
  {
   "cell_type": "markdown",
   "metadata": {},
   "source": [
    "#### Observations\n",
    "\n",
    "- The dataset contains 354,369 entries and 16 columns.\n",
    "- VehicleType: 37,490 missing values (10.6%).\n",
    "- Gearbox: 19,833 missing values (5.6%).\n",
    "- Model: 19,705 missing values (5.6%).\n",
    "- FuelType: 32,895 missing values (9.3%).\n",
    "- NotRepaired: 71,154 missing values (20.1%).\n",
    "- Found 262 duplicate rows, which were removed successfully\n",
    "- Important columns like Price, Power, and RegistrationYear have irregularities that must be addressed to avoid biasing the model.\n"
   ]
  },
  {
   "cell_type": "code",
   "execution_count": 10,
   "metadata": {},
   "outputs": [
    {
     "name": "stdout",
     "output_type": "stream",
     "text": [
      "VehicleType    0\n",
      "Gearbox        0\n",
      "Model          0\n",
      "FuelType       0\n",
      "NotRepaired    0\n",
      "dtype: int64\n"
     ]
    }
   ],
   "source": [
    "# Replace missing values in categorical columns with 'unknown'\n",
    "categorical_cols = ['VehicleType', 'Gearbox', 'Model', 'FuelType', 'NotRepaired']\n",
    "for col in categorical_cols:\n",
    "    car_data[col] = car_data[col].fillna('unknown')\n",
    "\n",
    "# Verify no missing values remain in categorical columns\n",
    "print(car_data[categorical_cols].isnull().sum())\n"
   ]
  },
  {
   "cell_type": "code",
   "execution_count": 11,
   "metadata": {},
   "outputs": [
    {
     "name": "stdout",
     "output_type": "stream",
     "text": [
      "count    343337.000000\n",
      "mean       4554.970603\n",
      "std        4515.250607\n",
      "min           1.000000\n",
      "25%        1200.000000\n",
      "50%        2890.000000\n",
      "75%        6500.000000\n",
      "max       20000.000000\n",
      "Name: Price, dtype: float64\n"
     ]
    }
   ],
   "source": [
    "# Remove rows with Price = 0\n",
    "car_data = car_data[car_data['Price'] > 0]\n",
    "\n",
    "# Cap Price at 100,000\n",
    "car_data['Price'] = car_data['Price'].clip(upper=100000)\n",
    "\n",
    "# Verify changes\n",
    "print(car_data['Price'].describe())\n"
   ]
  },
  {
   "cell_type": "code",
   "execution_count": 12,
   "metadata": {},
   "outputs": [
    {
     "name": "stdout",
     "output_type": "stream",
     "text": [
      "count    343198.000000\n",
      "mean       2003.179130\n",
      "std           7.372763\n",
      "min        1910.000000\n",
      "25%        1999.000000\n",
      "50%        2003.000000\n",
      "75%        2008.000000\n",
      "max        2019.000000\n",
      "Name: RegistrationYear, dtype: float64\n"
     ]
    }
   ],
   "source": [
    "# Filter valid RegistrationYear\n",
    "car_data = car_data[(car_data['RegistrationYear'] >= 1886) & (car_data['RegistrationYear'] <= 2024)]\n",
    "\n",
    "# Verify changes\n",
    "print(car_data['RegistrationYear'].describe())\n"
   ]
  },
  {
   "cell_type": "code",
   "execution_count": 13,
   "metadata": {},
   "outputs": [
    {
     "name": "stdout",
     "output_type": "stream",
     "text": [
      "count    306665.000000\n",
      "mean        120.358880\n",
      "std          54.771701\n",
      "min           1.000000\n",
      "25%          75.000000\n",
      "50%         110.000000\n",
      "75%         150.000000\n",
      "max        1000.000000\n",
      "Name: Power, dtype: float64\n"
     ]
    }
   ],
   "source": [
    "# Filter valid Power range\n",
    "car_data = car_data[(car_data['Power'] > 0) & (car_data['Power'] <= 1000)]\n",
    "\n",
    "# Verify changes\n",
    "print(car_data['Power'].describe())\n"
   ]
  },
  {
   "cell_type": "code",
   "execution_count": 14,
   "metadata": {},
   "outputs": [
    {
     "name": "stdout",
     "output_type": "stream",
     "text": [
      "Remaining missing values:\n",
      " DateCrawled          0\n",
      "Price                0\n",
      "VehicleType          0\n",
      "RegistrationYear     0\n",
      "Gearbox              0\n",
      "Power                0\n",
      "Model                0\n",
      "Mileage              0\n",
      "RegistrationMonth    0\n",
      "FuelType             0\n",
      "Brand                0\n",
      "NotRepaired          0\n",
      "DateCreated          0\n",
      "NumberOfPictures     0\n",
      "PostalCode           0\n",
      "LastSeen             0\n",
      "dtype: int64\n",
      "Data shape after cleaning: (306665, 16)\n"
     ]
    }
   ],
   "source": [
    "# Check for remaining missing values\n",
    "print(\"Remaining missing values:\\n\", car_data.isnull().sum())\n",
    "\n",
    "# Check data shape after cleaning\n",
    "print(\"Data shape after cleaning:\", car_data.shape)\n"
   ]
  },
  {
   "cell_type": "markdown",
   "metadata": {},
   "source": [
    "#### Observations\n",
    "\n",
    "- Missing values in categorical columns were handled without losing data.\n",
    "- Cleaned the Price column, making values more realistic and suitable for modeling.\n",
    "- Ensured only plausible registration years remain.\n",
    "- Removed invalid and extreme power values to keep data consistent.\n",
    "- The dataset is now free of missing values and outliers."
   ]
  },
  {
   "cell_type": "markdown",
   "metadata": {},
   "source": [
    "## Model training"
   ]
  },
  {
   "cell_type": "code",
   "execution_count": 15,
   "metadata": {},
   "outputs": [
    {
     "name": "stdout",
     "output_type": "stream",
     "text": [
      "Shape after encoding: (306665, 317)\n"
     ]
    }
   ],
   "source": [
    "# Perform One-Hot Encoding for models requiring numeric input\n",
    "encoded_data = pd.get_dummies(car_data, drop_first=True)\n",
    "\n",
    "# Check the shape of the dataset after encoding\n",
    "print(\"Shape after encoding:\", encoded_data.shape)\n"
   ]
  },
  {
   "cell_type": "code",
   "execution_count": 16,
   "metadata": {},
   "outputs": [
    {
     "name": "stdout",
     "output_type": "stream",
     "text": [
      "Training set shape: (245332, 316)\n",
      "Test set shape: (61333, 316)\n"
     ]
    }
   ],
   "source": [
    "# Separate features and target variable\n",
    "X = encoded_data.drop(columns=['Price'])\n",
    "y = encoded_data['Price']\n",
    "\n",
    "# Split into training and testing sets\n",
    "X_train, X_test, y_train, y_test = train_test_split(X, y, test_size=0.2, random_state=42)\n",
    "\n",
    "print(\"Training set shape:\", X_train.shape)\n",
    "print(\"Test set shape:\", X_test.shape)\n"
   ]
  },
  {
   "cell_type": "code",
   "execution_count": 17,
   "metadata": {},
   "outputs": [],
   "source": [
    "# Preprocess datetime columns\n",
    "datetime_columns = X_train.select_dtypes(include=['datetime64']).columns\n",
    "for col in datetime_columns:\n",
    "    X_train[col + '_year'] = X_train[col].dt.year\n",
    "    X_train[col + '_month'] = X_train[col].dt.month\n",
    "    X_train[col + '_day'] = X_train[col].dt.day\n",
    "X_train.drop(columns=datetime_columns, inplace=True)\n",
    "\n",
    "for col in datetime_columns:\n",
    "    X_test[col + '_year'] = X_test[col].dt.year\n",
    "    X_test[col + '_month'] = X_test[col].dt.month\n",
    "    X_test[col + '_day'] = X_test[col].dt.day\n",
    "X_test.drop(columns=datetime_columns, inplace=True)"
   ]
  },
  {
   "cell_type": "code",
   "execution_count": 24,
   "metadata": {},
   "outputs": [
    {
     "name": "stdout",
     "output_type": "stream",
     "text": [
      "Linear Regression RMSE: 2622.53\n",
      "Training Time: 9.65 seconds\n",
      "Prediction Time: 0.1107 seconds\n"
     ]
    }
   ],
   "source": [
    "# Linear Regression\n",
    "start_time = time.time()\n",
    "lr_model = LinearRegression()\n",
    "lr_model.fit(X_train, y_train)  # Training the model\n",
    "training_time_lr = time.time() - start_time\n",
    "\n",
    "# Predictions and Prediction Time\n",
    "start_time = time.time()\n",
    "y_pred_lr = lr_model.predict(X_test)  # Predicting\n",
    "prediction_time_lr = time.time() - start_time\n",
    "\n",
    "# Evaluate\n",
    "rmse_lr = mean_squared_error(y_test, y_pred_lr, squared=False)\n",
    "\n",
    "print(f\"Linear Regression RMSE: {rmse_lr:.2f}\")\n",
    "print(f\"Training Time: {training_time_lr:.2f} seconds\")\n",
    "print(f\"Prediction Time: {prediction_time_lr:.4f} seconds\")\n"
   ]
  },
  {
   "cell_type": "code",
   "execution_count": 25,
   "metadata": {},
   "outputs": [
    {
     "name": "stdout",
     "output_type": "stream",
     "text": [
      "Random Forest RMSE: 1560.81\n",
      "Training Time: 434.57 seconds\n",
      "Prediction Time: 2.6792 seconds\n"
     ]
    }
   ],
   "source": [
    "# Random Forest\n",
    "start_time = time.time()\n",
    "rf_model = RandomForestRegressor(random_state=42, n_estimators=100)\n",
    "rf_model.fit(X_train, y_train)  # Training the model\n",
    "training_time_rf = time.time() - start_time\n",
    "\n",
    "# Predictions and Prediction Time\n",
    "start_time = time.time()\n",
    "y_pred_rf = rf_model.predict(X_test)  # Predicting\n",
    "prediction_time_rf = time.time() - start_time\n",
    "\n",
    "# Evaluate\n",
    "rmse_rf = mean_squared_error(y_test, y_pred_rf, squared=False)\n",
    "\n",
    "print(f\"Random Forest RMSE: {rmse_rf:.2f}\")\n",
    "print(f\"Training Time: {training_time_rf:.2f} seconds\")\n",
    "print(f\"Prediction Time: {prediction_time_rf:.4f} seconds\")\n"
   ]
  },
  {
   "cell_type": "code",
   "execution_count": null,
   "metadata": {},
   "outputs": [],
   "source": [
    "# Tried running the code but it's taking close to an hour without an output.\n",
    "# Define the hyperparameters to tune for LightGBM\n",
    "param_dist = {\n",
    "    'n_estimators': [50, 100],  # Number of boosting rounds (fewer options)\n",
    "    'learning_rate': [0.05, 0.1],  # Step size (narrower range)\n",
    "    'num_leaves': [31, 50],  # Max number of leaves (fewer options)\n",
    "    'max_depth': [10, -1],  # Max depth of trees (-1 means no limit)\n",
    "}\n",
    "\n",
    "# Initialize the LightGBM Regressor\n",
    "lgb_model = LGBMRegressor(random_state=42)\n",
    "\n",
    "# Initialize RandomizedSearchCV with the LightGBM model and parameter grid\n",
    "random_search = RandomizedSearchCV(estimator=lgb_model, param_distributions=param_dist, \n",
    "                                   n_iter=50, scoring='neg_root_mean_squared_error', \n",
    "                                   cv=5, verbose=1, n_jobs=-1, random_state=42)\n",
    "\n",
    "# Measure training time\n",
    "start_time = time.time()\n",
    "random_search.fit(X_train, y_train)\n",
    "training_time_lgb = time.time() - start_time\n",
    "\n",
    "# Get the best parameters and best model from RandomizedSearchCV\n",
    "best_params = random_search.best_params_\n",
    "best_lgb_model = random_search.best_estimator_\n",
    "\n",
    "# Measure prediction time\n",
    "start_time = time.time()\n",
    "y_pred_lgb = best_lgb_model.predict(X_test)\n",
    "prediction_time_lgb = time.time() - start_time\n",
    "\n",
    "# Evaluate model performance\n",
    "rmse_lgb = mean_squared_error(y_test, y_pred_lgb, squared=False)\n",
    "\n",
    "# Output the results\n",
    "print(f\"Best Parameters for LightGBM: {best_params}\")\n",
    "print(f\"LightGBM RMSE: {rmse_lgb:.2f}\")\n",
    "print(f\"Training Time: {training_time_lgb:.2f} seconds\")\n",
    "print(f\"Prediction Time: {prediction_time_lgb:.4f} seconds\")\n"
   ]
  },
  {
   "cell_type": "code",
   "execution_count": 26,
   "metadata": {},
   "outputs": [
    {
     "name": "stdout",
     "output_type": "stream",
     "text": [
      "LightGBM RMSE: 1691.06\n",
      "Training Time: 5.00 seconds\n",
      "Prediction Time: 0.5029 seconds\n"
     ]
    }
   ],
   "source": [
    "# Initialize the LightGBM Regressor\n",
    "lgb_model = LGBMRegressor(random_state=42)\n",
    "\n",
    "# Training the model and measuring training time\n",
    "start_time = time.time()\n",
    "lgb_model.fit(X_train, y_train)\n",
    "training_time_lgb = time.time() - start_time\n",
    "\n",
    "# Making predictions and measuring prediction time\n",
    "start_time = time.time()\n",
    "y_pred_lgb = lgb_model.predict(X_test)\n",
    "prediction_time_lgb = time.time() - start_time\n",
    "\n",
    "# Evaluate model performance\n",
    "rmse_lgb = mean_squared_error(y_test, y_pred_lgb, squared=False)\n",
    "\n",
    "# Output results\n",
    "print(f\"LightGBM RMSE: {rmse_lgb:.2f}\")\n",
    "print(f\"Training Time: {training_time_lgb:.2f} seconds\")\n",
    "print(f\"Prediction Time: {prediction_time_lgb:.4f} seconds\")"
   ]
  },
  {
   "cell_type": "code",
   "execution_count": 31,
   "metadata": {},
   "outputs": [
    {
     "name": "stdout",
     "output_type": "stream",
     "text": [
      "Gradient Boosting RMSE: 1937.27\n",
      "Training Time: 98.52 seconds\n",
      "Prediction Time: 0.1851 seconds\n"
     ]
    }
   ],
   "source": [
    "# Initialize the model\n",
    "gbr = GradientBoostingRegressor(random_state=42)\n",
    "\n",
    "# Training the model and measuring training time\n",
    "start_time = time.time()\n",
    "gbr.fit(X_train, y_train)\n",
    "training_time_gbr = time.time() - start_time\n",
    "\n",
    "# Making predictions and measuring prediction time\n",
    "start_time = time.time()\n",
    "y_pred_gbr = gbr.predict(X_test)\n",
    "prediction_time_gbr = time.time() - start_time\n",
    "\n",
    "# Evaluate model performance\n",
    "rmse_gbr = mean_squared_error(y_test, y_pred_gbr, squared=False)\n",
    "\n",
    "# Output results\n",
    "print(f\"Gradient Boosting RMSE: {rmse_gbr:.2f}\")\n",
    "print(f\"Training Time: {training_time_gbr:.2f} seconds\")\n",
    "print(f\"Prediction Time: {prediction_time_gbr:.4f} seconds\")"
   ]
  },
  {
   "cell_type": "code",
   "execution_count": 32,
   "metadata": {},
   "outputs": [
    {
     "name": "stdout",
     "output_type": "stream",
     "text": [
      "CatBoost RMSE: 1516.65\n",
      "Training Time: 84.19 seconds\n",
      "Prediction Time: 0.1894 seconds\n"
     ]
    }
   ],
   "source": [
    "# Initialize the CatBoost Regressor\n",
    "catboost_model = CatBoostRegressor(learning_rate=0.1, iterations=1000, depth=10, random_state=42, verbose=0)\n",
    "\n",
    "# Training the model and measuring training time\n",
    "start_time = time.time()\n",
    "catboost_model.fit(X_train, y_train)\n",
    "training_time_catboost = time.time() - start_time\n",
    "\n",
    "# Making predictions and measuring prediction time\n",
    "start_time = time.time()\n",
    "y_pred_catboost = catboost_model.predict(X_test)\n",
    "prediction_time_catboost = time.time() - start_time\n",
    "\n",
    "# Evaluate model performance\n",
    "rmse_catboost = mean_squared_error(y_test, y_pred_catboost, squared=False)\n",
    "\n",
    "# Output results\n",
    "print(f\"CatBoost RMSE: {rmse_catboost:.2f}\")\n",
    "print(f\"Training Time: {training_time_catboost:.2f} seconds\")\n",
    "print(f\"Prediction Time: {prediction_time_catboost:.4f} seconds\")"
   ]
  },
  {
   "cell_type": "markdown",
   "metadata": {},
   "source": [
    "## Model analysis"
   ]
  },
  {
   "cell_type": "code",
   "execution_count": 33,
   "metadata": {},
   "outputs": [
    {
     "name": "stdout",
     "output_type": "stream",
     "text": [
      "               Model         RMSE  Training Time (s)  Prediction Time (s)\n",
      "0  Linear Regression  2622.528897           9.651484             0.110713\n",
      "1      Random Forest  1560.806862         434.569850             2.679222\n",
      "2           LightGBM  1691.056522           4.996482             0.502877\n",
      "3  Gradient Boosting  1937.271473          98.523213             0.185051\n",
      "4           CatBoost  1516.654412          84.190555             0.189361\n"
     ]
    }
   ],
   "source": [
    "results = {\n",
    "    'Model': ['Linear Regression', 'Random Forest', 'LightGBM', 'Gradient Boosting', 'CatBoost'],\n",
    "    'RMSE': [rmse_lr, rmse_rf, rmse_lgb, rmse_gbr, rmse_catboost],\n",
    "    'Training Time (s)': [training_time_lr, training_time_rf, training_time_lgb, training_time_gbr, training_time_catboost],\n",
    "    'Prediction Time (s)': [prediction_time_lr, prediction_time_rf, prediction_time_lgb, prediction_time_gbr, prediction_time_catboost],\n",
    "}\n",
    "\n",
    "results_df = pd.DataFrame(results)\n",
    "print(results_df)\n",
    "\n"
   ]
  },
  {
   "cell_type": "code",
   "execution_count": 39,
   "metadata": {},
   "outputs": [
    {
     "data": {
      "image/png": "[encoded data removed]",
      "text/plain": [
       "<Figure size 1800x600 with 3 Axes>"
      ]
     },
     "metadata": {},
     "output_type": "display_data"
    }
   ],
   "source": [
    "# Data for plotting\n",
    "models = results_df['Model']\n",
    "rmse = results_df['RMSE']\n",
    "training_time = results_df['Training Time (s)']\n",
    "prediction_time = results_df['Prediction Time (s)']\n",
    "\n",
    "\n",
    "# Create a 1x3 subplot\n",
    "fig, axes = plt.subplots(1, 3, figsize=(18, 6))\n",
    "\n",
    "# RMSE Plot\n",
    "sns.barplot(x=models, y=rmse, ax=axes[0], palette='Blues_d')\n",
    "axes[0].set_title('RMSE by Model')\n",
    "axes[0].set_ylabel('RMSE')\n",
    "axes[0].set_xlabel('Model')\n",
    "\n",
    "# Training Time Plot\n",
    "sns.barplot(x=models, y=training_time, ax=axes[1], palette='Greens_d')\n",
    "axes[1].set_title('Training Time by Model (s)')\n",
    "axes[1].set_ylabel('Training Time (s)')\n",
    "axes[1].set_xlabel('Model')\n",
    "\n",
    "# Prediction Time Plot\n",
    "sns.barplot(x=models, y=prediction_time, ax=axes[2], palette='Reds_d')\n",
    "axes[2].set_title('Prediction Time by Model (s)')\n",
    "axes[2].set_ylabel('Prediction Time (s)')\n",
    "axes[2].set_xlabel('Model')\n",
    "\n",
    "# Show the plots\n",
    "plt.tight_layout()\n",
    "plt.show()"
   ]
  },
  {
   "cell_type": "markdown",
   "metadata": {},
   "source": [
    "## Conclusion\n",
    "\n",
    "**Prediction Accuracy (RMSE):**\n",
    "- The CatBoost model has the lowest RMSE (1516.65), followed closely by Random Forest (1560.81) and LightGBM (1691.06). This indicates that CatBoost offers the best prediction accuracy among the models.\n",
    "- Linear Regression and Gradient Boosting have higher RMSE values (2622.53 and 1937.27, respectively), suggesting they are less accurate compared to other models.\n",
    "\n",
    "**Training Efficiency (Training Time):**\n",
    "- Linear Regression is by far the fastest model to train, taking only 9.65 seconds. This is significantly faster than all other models.\n",
    "- LightGBM is also quite efficient, with a training time of 4.99 seconds.\n",
    "- Random Forest, Gradient Boosting, and CatBoost take much longer, with Random Forest being the slowest (434.57 seconds).\n",
    "\n",
    "**Prediction Efficiency (Prediction Time):**\n",
    "\n",
    "- Linear Regression has the fastest prediction time (0.11 seconds), followed by CatBoost and Gradient Boosting (0.19 seconds).\n",
    "- Random Forest has the slowest prediction time (2.68 seconds), which may be a consideration in time-sensitive applications.\n",
    "\n",
    "\n",
    "**Based on the above analysis, CatBoost is recommended for the highest prediction accuracy, while Linear Regression offers the quickest training and prediction times if efficiency is paramount. If the trade-off between training time and accuracy is acceptable, LightGBM would also be a strong option.**"
   ]
  },
  {
   "cell_type": "markdown",
   "metadata": {},
   "source": [
    "# Checklist"
   ]
  },
  {
   "cell_type": "markdown",
   "metadata": {},
   "source": [
    "Type 'x' to check. Then press Shift+Enter."
   ]
  },
  {
   "cell_type": "markdown",
   "metadata": {},
   "source": [
    "- [x]  Jupyter Notebook is open\n",
    "- [ ]  Code is error free\n",
    "- [ ]  The cells with the code have been arranged in order of execution\n",
    "- [ ]  The data has been downloaded and prepared\n",
    "- [ ]  The models have been trained\n",
    "- [ ]  The analysis of speed and quality of the models has been performed"
   ]
  },
  {
   "cell_type": "code",
   "execution_count": null,
   "metadata": {},
   "outputs": [],
   "source": []
  }
 ],
 "metadata": {
  "ExecuteTimeLog": [
   {
    "duration": 2664,
    "start_time": "2024-12-01T04:36:00.345Z"
   },
   {
    "duration": 455,
    "start_time": "2024-12-01T04:36:03.012Z"
   },
   {
    "duration": 96,
    "start_time": "2024-12-01T04:36:03.469Z"
   },
   {
    "duration": 28054,
    "start_time": "2024-12-01T04:47:10.134Z"
   },
   {
    "duration": 397,
    "start_time": "2024-12-01T04:49:46.220Z"
   },
   {
    "duration": 99,
    "start_time": "2024-12-01T04:49:46.619Z"
   },
   {
    "duration": 94,
    "start_time": "2024-12-01T04:49:55.836Z"
   },
   {
    "duration": 220,
    "start_time": "2024-12-01T04:50:32.950Z"
   },
   {
    "duration": 263,
    "start_time": "2024-12-01T04:50:41.957Z"
   },
   {
    "duration": 224,
    "start_time": "2024-12-01T04:51:15.580Z"
   },
   {
    "duration": 706,
    "start_time": "2024-12-01T04:51:24.360Z"
   },
   {
    "duration": 88,
    "start_time": "2024-12-01T04:52:17.037Z"
   },
   {
    "duration": 664,
    "start_time": "2024-12-01T04:52:18.198Z"
   },
   {
    "duration": 4,
    "start_time": "2024-12-01T04:52:22.997Z"
   },
   {
    "duration": 394,
    "start_time": "2024-12-01T04:52:23.530Z"
   },
   {
    "duration": 90,
    "start_time": "2024-12-01T04:52:24.017Z"
   },
   {
    "duration": 107,
    "start_time": "2024-12-01T04:52:24.718Z"
   },
   {
    "duration": 636,
    "start_time": "2024-12-01T04:52:26.024Z"
   },
   {
    "duration": 55,
    "start_time": "2024-12-01T04:52:40.498Z"
   },
   {
    "duration": 34685,
    "start_time": "2024-12-01T04:53:22.666Z"
   },
   {
    "duration": 17,
    "start_time": "2024-12-01T04:57:49.598Z"
   },
   {
    "duration": 117,
    "start_time": "2024-12-01T05:02:45.419Z"
   },
   {
    "duration": 36,
    "start_time": "2024-12-01T05:02:54.982Z"
   },
   {
    "duration": 33,
    "start_time": "2024-12-01T05:03:01.908Z"
   },
   {
    "duration": 27,
    "start_time": "2024-12-01T05:03:12.468Z"
   },
   {
    "duration": 55,
    "start_time": "2024-12-01T05:03:20.031Z"
   },
   {
    "duration": 247,
    "start_time": "2024-12-01T05:06:33.652Z"
   },
   {
    "duration": 630,
    "start_time": "2024-12-01T05:07:07.739Z"
   },
   {
    "duration": 436,
    "start_time": "2024-12-01T05:07:18.133Z"
   },
   {
    "duration": 2875,
    "start_time": "2024-12-01T05:08:53.387Z"
   },
   {
    "duration": 4,
    "start_time": "2024-12-01T05:08:56.265Z"
   },
   {
    "duration": 377,
    "start_time": "2024-12-01T05:08:56.270Z"
   },
   {
    "duration": 90,
    "start_time": "2024-12-01T05:08:56.650Z"
   },
   {
    "duration": 99,
    "start_time": "2024-12-01T05:08:56.742Z"
   },
   {
    "duration": 584,
    "start_time": "2024-12-01T05:09:01.263Z"
   },
   {
    "duration": 52,
    "start_time": "2024-12-01T05:09:03.396Z"
   },
   {
    "duration": 34890,
    "start_time": "2024-12-01T05:09:05.888Z"
   },
   {
    "duration": 9,
    "start_time": "2024-12-01T05:09:40.780Z"
   },
   {
    "duration": 114,
    "start_time": "2024-12-01T05:10:02.195Z"
   },
   {
    "duration": 34,
    "start_time": "2024-12-01T05:10:02.911Z"
   },
   {
    "duration": 35,
    "start_time": "2024-12-01T05:10:03.557Z"
   },
   {
    "duration": 27,
    "start_time": "2024-12-01T05:10:05.938Z"
   },
   {
    "duration": 55,
    "start_time": "2024-12-01T05:10:06.497Z"
   },
   {
    "duration": 250,
    "start_time": "2024-12-01T05:10:11.105Z"
   },
   {
    "duration": 580,
    "start_time": "2024-12-01T05:10:13.278Z"
   },
   {
    "duration": 66,
    "start_time": "2024-12-01T05:10:14.457Z"
   },
   {
    "duration": 169,
    "start_time": "2024-12-01T05:12:43.324Z"
   },
   {
    "duration": 29,
    "start_time": "2024-12-01T05:21:55.117Z"
   },
   {
    "duration": 2927,
    "start_time": "2024-12-01T05:24:35.143Z"
   },
   {
    "duration": 1011,
    "start_time": "2024-12-01T05:24:38.072Z"
   },
   {
    "duration": 402,
    "start_time": "2024-12-01T05:24:39.084Z"
   },
   {
    "duration": 106,
    "start_time": "2024-12-01T05:24:39.487Z"
   },
   {
    "duration": 93,
    "start_time": "2024-12-01T05:24:39.595Z"
   },
   {
    "duration": 729,
    "start_time": "2024-12-01T05:24:39.690Z"
   },
   {
    "duration": 54,
    "start_time": "2024-12-01T05:24:40.421Z"
   },
   {
    "duration": 34997,
    "start_time": "2024-12-01T05:24:40.477Z"
   },
   {
    "duration": 10,
    "start_time": "2024-12-01T05:25:15.476Z"
   },
   {
    "duration": 131,
    "start_time": "2024-12-01T05:25:15.487Z"
   },
   {
    "duration": 36,
    "start_time": "2024-12-01T05:25:15.620Z"
   },
   {
    "duration": 31,
    "start_time": "2024-12-01T05:25:15.657Z"
   },
   {
    "duration": 27,
    "start_time": "2024-12-01T05:25:15.708Z"
   },
   {
    "duration": 73,
    "start_time": "2024-12-01T05:25:15.739Z"
   },
   {
    "duration": 263,
    "start_time": "2024-12-01T05:25:15.813Z"
   },
   {
    "duration": 589,
    "start_time": "2024-12-01T05:25:16.078Z"
   },
   {
    "duration": 200,
    "start_time": "2024-12-01T05:25:16.669Z"
   },
   {
    "duration": 8882,
    "start_time": "2024-12-01T05:25:16.871Z"
   },
   {
    "duration": 437816,
    "start_time": "2024-12-01T05:32:03.332Z"
   },
   {
    "duration": 5473,
    "start_time": "2024-12-01T05:40:56.948Z"
   },
   {
    "duration": 232,
    "start_time": "2024-12-01T05:42:12.007Z"
   },
   {
    "duration": 9769,
    "start_time": "2024-12-01T05:45:54.158Z"
   },
   {
    "duration": 437254,
    "start_time": "2024-12-01T05:46:06.278Z"
   },
   {
    "duration": 5504,
    "start_time": "2024-12-01T05:53:28.311Z"
   },
   {
    "duration": 6,
    "start_time": "2024-12-01T05:53:35.817Z"
   },
   {
    "duration": 18,
    "start_time": "2024-12-01T05:58:32.438Z"
   },
   {
    "duration": 4,
    "start_time": "2024-12-01T05:58:42.604Z"
   },
   {
    "duration": 16,
    "start_time": "2024-12-01T05:58:47.378Z"
   },
   {
    "duration": 98713,
    "start_time": "2024-12-01T06:02:23.838Z"
   },
   {
    "duration": 84385,
    "start_time": "2024-12-01T06:04:13.645Z"
   },
   {
    "duration": 7,
    "start_time": "2024-12-01T06:06:19.903Z"
   },
   {
    "duration": 395,
    "start_time": "2024-12-01T06:08:19.313Z"
   },
   {
    "duration": 0,
    "start_time": "2024-12-01T06:38:19.516Z"
   },
   {
    "duration": 0,
    "start_time": "2024-12-01T06:38:19.518Z"
   },
   {
    "duration": 0,
    "start_time": "2024-12-01T06:38:19.519Z"
   },
   {
    "duration": 4,
    "start_time": "2024-12-01T06:38:22.530Z"
   },
   {
    "duration": 0,
    "start_time": "2024-12-01T07:14:04.015Z"
   },
   {
    "duration": 404,
    "start_time": "2024-12-01T07:16:44.895Z"
   },
   {
    "duration": 7,
    "start_time": "2024-12-01T08:14:48.247Z"
   }
  ],
  "kernelspec": {
   "display_name": "Python 3 (ipykernel)",
   "language": "python",
   "name": "python3"
  },
  "language_info": {
   "codemirror_mode": {
    "name": "ipython",
    "version": 3
   },
   "file_extension": ".py",
   "mimetype": "text/x-python",
   "name": "python",
   "nbconvert_exporter": "python",
   "pygments_lexer": "ipython3",
   "version": "3.12.4"
  },
  "toc": {
   "base_numbering": 1,
   "nav_menu": {},
   "number_sections": true,
   "sideBar": true,
   "skip_h1_title": true,
   "title_cell": "Table of Contents",
   "title_sidebar": "Contents",
   "toc_cell": false,
   "toc_position": {},
   "toc_section_display": true,
   "toc_window_display": false
  }
 },
 "nbformat": 4,
 "nbformat_minor": 4
}
